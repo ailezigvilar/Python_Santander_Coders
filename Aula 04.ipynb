{
 "cells": [
  {
   "cell_type": "code",
   "execution_count": 4,
   "id": "d65f1eb0",
   "metadata": {},
   "outputs": [],
   "source": [
    "x = 50\n",
    "y = 2"
   ]
  },
  {
   "cell_type": "code",
   "execution_count": 5,
   "id": "eeff4876",
   "metadata": {},
   "outputs": [
    {
     "name": "stdout",
     "output_type": "stream",
     "text": [
      "52\n",
      "48\n",
      "100\n",
      "25.0\n"
     ]
    }
   ],
   "source": [
    "print(x + y)\n",
    "print(x - y)\n",
    "print(x * y)\n",
    "print(x / y)"
   ]
  },
  {
   "cell_type": "code",
   "execution_count": null,
   "id": "982cfa36",
   "metadata": {
    "scrolled": true
   },
   "outputs": [],
   "source": [
    "print(x ** y)\n",
    "print(x // y)\n",
    "print(x % y)"
   ]
  },
  {
   "cell_type": "code",
   "execution_count": 6,
   "id": "76599e63",
   "metadata": {},
   "outputs": [
    {
     "name": "stdout",
     "output_type": "stream",
     "text": [
      "0\n"
     ]
    }
   ],
   "source": [
    "print(3 // 4)"
   ]
  },
  {
   "cell_type": "code",
   "execution_count": 7,
   "id": "e8062dcc",
   "metadata": {},
   "outputs": [],
   "source": [
    "tem_cafe = True\n",
    "tem_pao = False"
   ]
  },
  {
   "cell_type": "code",
   "execution_count": 8,
   "id": "2b5a3899",
   "metadata": {},
   "outputs": [
    {
     "name": "stdout",
     "output_type": "stream",
     "text": [
      "False\n",
      "True\n",
      "False\n"
     ]
    }
   ],
   "source": [
    "print(not tem_cafe)\n",
    "print(tem_cafe or tem_pao)\n",
    "print(tem_cafe and tem_pao)"
   ]
  },
  {
   "cell_type": "code",
   "execution_count": 9,
   "id": "a00052f3",
   "metadata": {},
   "outputs": [],
   "source": [
    "dolar = 5.3\n",
    "real = 1"
   ]
  },
  {
   "cell_type": "code",
   "execution_count": 10,
   "id": "d5d76fa5",
   "metadata": {},
   "outputs": [
    {
     "name": "stdout",
     "output_type": "stream",
     "text": [
      "True\n",
      "False\n",
      "False\n",
      "True\n",
      "False\n",
      "True\n"
     ]
    }
   ],
   "source": [
    "print(dolar > real)\n",
    "print(dolar < real)\n",
    "print(dolar == real)\n",
    "print(dolar >= real)\n",
    "print(dolar <= real)\n",
    "print(dolar != real)"
   ]
  },
  {
   "cell_type": "code",
   "execution_count": null,
   "id": "b3cc9d78",
   "metadata": {},
   "outputs": [],
   "source": []
  }
 ],
 "metadata": {
  "kernelspec": {
   "display_name": "Python 3 (ipykernel)",
   "language": "python",
   "name": "python3"
  },
  "language_info": {
   "codemirror_mode": {
    "name": "ipython",
    "version": 3
   },
   "file_extension": ".py",
   "mimetype": "text/x-python",
   "name": "python",
   "nbconvert_exporter": "python",
   "pygments_lexer": "ipython3",
   "version": "3.10.7"
  }
 },
 "nbformat": 4,
 "nbformat_minor": 5
}
